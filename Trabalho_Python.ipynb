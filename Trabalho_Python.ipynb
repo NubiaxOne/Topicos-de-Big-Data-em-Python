{
  "nbformat": 4,
  "nbformat_minor": 0,
  "metadata": {
    "colab": {
      "provenance": []
    },
    "kernelspec": {
      "name": "python3",
      "display_name": "Python 3"
    },
    "language_info": {
      "name": "python"
    }
  },
  "cells": [
    {
      "cell_type": "markdown",
      "source": [
        "**Trabalho da Estacio - Tópicos de Big Data em Python**"
      ],
      "metadata": {
        "id": "rFf8ETeEdAwY"
      }
    },
    {
      "cell_type": "markdown",
      "source": [
        "Aluno: Núbia P. Serpa Andrade"
      ],
      "metadata": {
        "id": "Y57PAtscdLOH"
      }
    },
    {
      "cell_type": "markdown",
      "source": [
        "Nota: Para funcionar corretamente, Faça o upload do arquivo csv chamado \"Livros\"\n",
        "Coloque ele na pasta \"content\""
      ],
      "metadata": {
        "id": "QVA4u4p4bzNn"
      }
    },
    {
      "cell_type": "markdown",
      "source": [
        "Nota: Caso não funcione o codigo abaixo, crie uma pasta chamada \"templates\" na pasta \"content\" e crie dentro dela um arquivo chamado \"index.html\", copie o codigo do arquivo de mesmo nome no meu repositorio do Github ou então, baixe do repositorio, faça o upload para dentro da pasta \"templates\""
      ],
      "metadata": {
        "id": "Y9a_-bAicj0G"
      }
    },
    {
      "cell_type": "code",
      "source": [
        "import os\n",
        "\n",
        "os.makedirs(\"templates\", exist_ok=True)\n"
      ],
      "metadata": {
        "id": "NV6ibje9d7pJ"
      },
      "execution_count": null,
      "outputs": []
    },
    {
      "cell_type": "markdown",
      "source": [
        "Programa"
      ],
      "metadata": {
        "id": "rIFtXUcpegN_"
      }
    },
    {
      "cell_type": "code",
      "execution_count": null,
      "metadata": {
        "id": "iKJXX6fibXUO"
      },
      "outputs": [],
      "source": [
        "!pip install pyspark pandas\n",
        "!pip install pyngrok\n",
        "from flask import Flask, render_template, jsonify\n",
        "from pyngrok import ngrok\n",
        "from pyspark.sql import SparkSession\n",
        "import random"
      ]
    },
    {
      "cell_type": "code",
      "source": [
        "spark = SparkSession.builder.appName(\"RecomendaçãoLivros\").getOrCreate()\n",
        "df = spark.read.csv(\"Livros.csv\", header=True, inferSchema=True)\n",
        "df.show()\n",
        "port_no = 5000\n",
        "app = Flask(__name__)\n",
        "ngrok.set_auth_token(\"2lNafTj4EphmaNNYrOZgddrxruA_zuZo4XoGnwKLVFYmYX3Y\")\n",
        "public_url = ngrok.connect(port_no).public_url"
      ],
      "metadata": {
        "id": "VQrWG5DSbf3T"
      },
      "execution_count": null,
      "outputs": []
    },
    {
      "cell_type": "code",
      "source": [
        "def recomendar_livros_aleatorio():\n",
        "    generos = df.select(\"genero\").distinct().rdd.map(lambda r: r[0]).collect()\n",
        "    genero_aleatorio = random.choice(generos)\n",
        "\n",
        "    livro_recomendado = df.filter(df.genero == genero_aleatorio).limit(1)\n",
        "    resultado = livro_recomendado.select(\"genero\", \"nome_livro\", \"autor\", \"ano\").collect()\n",
        "\n",
        "    genero, nome_livro, autor, ano = resultado[0]\n",
        "    return genero, nome_livro, autor, ano\n",
        "@app.route(\"/\")\n",
        "def home():\n",
        "    genero, nome_livro, autor, ano = recomendar_livros_aleatorio()\n",
        "    return render_template(\"index.html\", genero=genero, nome_livro=nome_livro, autor=autor, ano=ano)\n",
        "@app.route(\"/nova_recomendacao\")\n",
        "def nova_recomendacao():\n",
        "    genero, nome_livro, autor, ano = recomendar_livros_aleatorio()\n",
        "    return jsonify(genero=genero, nome_livro=nome_livro, autor=autor, ano=ano)\n",
        "print(f\"{public_url}\")\n",
        "app.run(port=port_no)"
      ],
      "metadata": {
        "id": "iu4n_atgbkK5"
      },
      "execution_count": null,
      "outputs": []
    },
    {
      "cell_type": "markdown",
      "source": [
        "Nota: Para visualizar, clique no primeiro link gerado e na pagina, aperte o botão roxo para confirmar"
      ],
      "metadata": {
        "id": "LaTzDlujfzCg"
      }
    }
  ]
}
