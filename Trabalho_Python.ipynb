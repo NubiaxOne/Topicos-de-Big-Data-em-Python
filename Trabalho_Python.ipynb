{
  "nbformat": 4,
  "nbformat_minor": 0,
  "metadata": {
    "colab": {
      "provenance": []
    },
    "kernelspec": {
      "name": "python3",
      "display_name": "Python 3"
    },
    "language_info": {
      "name": "python"
    }
  },
  "cells": [
    {
      "cell_type": "markdown",
      "source": [
        "**Trabalho da Estacio - Tópicos de Big Data em Python**"
      ],
      "metadata": {
        "id": "rFf8ETeEdAwY"
      }
    },
    {
      "cell_type": "markdown",
      "source": [
        "Aluno: Núbia P. Serpa Andrade"
      ],
      "metadata": {
        "id": "Y57PAtscdLOH"
      }
    },
    {
      "cell_type": "markdown",
      "source": [
        "Nota: Para funcionar corretamente, Faça o upload do arquivo csv chamado \"Livros\"\n",
        "Coloque ele na pasta \"content\""
      ],
      "metadata": {
        "id": "QVA4u4p4bzNn"
      }
    },
    {
      "cell_type": "markdown",
      "source": [
        "Nota: Caso não funcione o codigo abaixo, crie uma pasta chamada \"templates\" na pasta \"content\" e crie dentro dela um arquivo chamado \"index.html\", copie o codigo do arquivo de mesmo nome no meu repositorio do Github ou então, baixe do repositorio, faça o upload para dentro da pasta \"templates\""
      ],
      "metadata": {
        "id": "Y9a_-bAicj0G"
      }
    },
    {
      "cell_type": "code",
      "source": [
        "import os\n",
        "\n",
        "os.makedirs(\"templates\", exist_ok=True)\n"
      ],
      "metadata": {
        "id": "NV6ibje9d7pJ"
      },
      "execution_count": null,
      "outputs": []
    },
    {
      "cell_type": "markdown",
      "source": [
        "Programa"
      ],
      "metadata": {
        "id": "rIFtXUcpegN_"
      }
    },
    {
      "cell_type": "code",
      "execution_count": null,
      "metadata": {
        "colab": {
          "base_uri": "https://localhost:8080/"
        },
        "id": "iKJXX6fibXUO",
        "outputId": "68e07437-b4d1-40b5-80a4-51db0de6d432"
      },
      "outputs": [
        {
          "output_type": "stream",
          "name": "stdout",
          "text": [
            "Collecting pyspark\n",
            "  Downloading pyspark-3.5.2.tar.gz (317.3 MB)\n",
            "\u001b[2K     \u001b[90m━━━━━━━━━━━━━━━━━━━━━━━━━━━━━━━━━━━━━━━━\u001b[0m \u001b[32m317.3/317.3 MB\u001b[0m \u001b[31m4.3 MB/s\u001b[0m eta \u001b[36m0:00:00\u001b[0m\n",
            "\u001b[?25h  Preparing metadata (setup.py) ... \u001b[?25l\u001b[?25hdone\n",
            "Requirement already satisfied: pandas in /usr/local/lib/python3.10/dist-packages (2.1.4)\n",
            "Requirement already satisfied: py4j==0.10.9.7 in /usr/local/lib/python3.10/dist-packages (from pyspark) (0.10.9.7)\n",
            "Requirement already satisfied: numpy<2,>=1.22.4 in /usr/local/lib/python3.10/dist-packages (from pandas) (1.26.4)\n",
            "Requirement already satisfied: python-dateutil>=2.8.2 in /usr/local/lib/python3.10/dist-packages (from pandas) (2.8.2)\n",
            "Requirement already satisfied: pytz>=2020.1 in /usr/local/lib/python3.10/dist-packages (from pandas) (2024.1)\n",
            "Requirement already satisfied: tzdata>=2022.1 in /usr/local/lib/python3.10/dist-packages (from pandas) (2024.1)\n",
            "Requirement already satisfied: six>=1.5 in /usr/local/lib/python3.10/dist-packages (from python-dateutil>=2.8.2->pandas) (1.16.0)\n",
            "Building wheels for collected packages: pyspark\n",
            "  Building wheel for pyspark (setup.py) ... \u001b[?25l\u001b[?25hdone\n",
            "  Created wheel for pyspark: filename=pyspark-3.5.2-py2.py3-none-any.whl size=317812365 sha256=7ea877c90756479939ddbe8e20a2075f111a4c09518dae6ee3106a0de87856f2\n",
            "  Stored in directory: /root/.cache/pip/wheels/34/34/bd/03944534c44b677cd5859f248090daa9fb27b3c8f8e5f49574\n",
            "Successfully built pyspark\n",
            "Installing collected packages: pyspark\n",
            "Successfully installed pyspark-3.5.2\n",
            "Collecting pyngrok\n",
            "  Downloading pyngrok-7.2.0-py3-none-any.whl.metadata (7.4 kB)\n",
            "Requirement already satisfied: PyYAML>=5.1 in /usr/local/lib/python3.10/dist-packages (from pyngrok) (6.0.2)\n",
            "Downloading pyngrok-7.2.0-py3-none-any.whl (22 kB)\n",
            "Installing collected packages: pyngrok\n",
            "Successfully installed pyngrok-7.2.0\n"
          ]
        }
      ],
      "source": [
        "!pip install pyspark pandas\n",
        "!pip install pyngrok\n",
        "from flask import Flask, render_template, jsonify\n",
        "from pyngrok import ngrok\n",
        "from pyspark.sql import SparkSession\n",
        "import random"
      ]
    },
    {
      "cell_type": "code",
      "source": [
        "spark = SparkSession.builder.appName(\"RecomendaçãoLivros\").getOrCreate()\n",
        "df = spark.read.csv(\"Livros.csv\", header=True, inferSchema=True)\n",
        "df.show()\n",
        "port_no = 5000\n",
        "app = Flask(__name__)\n",
        "ngrok.set_auth_token(\"2lNafTj4EphmaNNYrOZgddrxruA_zuZo4XoGnwKLVFYmYX3Y\")\n",
        "public_url = ngrok.connect(port_no).public_url"
      ],
      "metadata": {
        "colab": {
          "base_uri": "https://localhost:8080/"
        },
        "id": "VQrWG5DSbf3T",
        "outputId": "1dbcd27d-c9d4-4bef-a585-4153ea92ff0b"
      },
      "execution_count": null,
      "outputs": [
        {
          "output_type": "stream",
          "name": "stdout",
          "text": [
            "+--------------------+--------------------+-------+--------------------+\n",
            "|          nome_livro|               autor|    ano|              genero|\n",
            "+--------------------+--------------------+-------+--------------------+\n",
            "|  O Pequeno Príncipe|Antoine de Saint-...|   1943|              Ficção|\n",
            "|                1984|       George Orwell|   1949|   Ficção Científica|\n",
            "|  O Senhor dos Anéis|      J.R.R. Tolkien|   1954|            Fantasia|\n",
            "|Orgulho e Preconc...|         Jane Austen|   1813|             Romance|\n",
            "|        Dom Casmurro|    Machado de Assis|   1899|            Realismo|\n",
            "|  O Sol é Para Todos|          Harper Lee|   1960|             Romance|\n",
            "| Cem Anos de Solidão| Gabriel García M...|   1967|     Realismo Mágico|\n",
            "|   Matar um Rouxinol|          Harper Lee|   1960|               Drama|\n",
            "|            O Hobbit|      J.R.R. Tolkien|   1937|            Fantasia|\n",
            "|     Brave New World|       Aldous Huxley|   1932|   Ficção Científica|\n",
            "|A Revolução dos B...|       George Orwell|   1945|            Satírico|\n",
            "|O Apanhador no Ca...|       J.D. Salinger|   1951| Literatura Ameri...|\n",
            "|     O Grande Gatsby| F. Scott Fitzgerald|   1925|             Romance|\n",
            "|       Anna Karênina|         Lev Tolstói|   1877|             Romance|\n",
            "|    A Arte da Guerra|             Sun Tzu| 5 a.C.|           Filosofia|\n",
            "|                1984|       George Orwell|   1949|   Ficção Científica|\n",
            "|O Morro dos Vento...|        Emily Brontë|   1847|      Romance Gótico|\n",
            "|       Os Miseráveis|         Victor Hugo|   1862|               Drama|\n",
            "|A Menina que Roub...|        Markus Zusak|   2005|               Drama|\n",
            "|  A Máquina do Tempo|          H.G. Wells|   1895|   Ficção Científica|\n",
            "+--------------------+--------------------+-------+--------------------+\n",
            "only showing top 20 rows\n",
            "\n"
          ]
        },
        {
          "output_type": "stream",
          "name": "stderr",
          "text": [
            "WARNING:pyngrok.process.ngrok:t=2024-09-13T13:07:23+0000 lvl=warn msg=\"can't bind default web address, trying alternatives\" obj=web addr=127.0.0.1:4040\n"
          ]
        }
      ]
    },
    {
      "cell_type": "code",
      "source": [
        "def recomendar_livros_aleatorio():\n",
        "    generos = df.select(\"genero\").distinct().rdd.map(lambda r: r[0]).collect()\n",
        "    genero_aleatorio = random.choice(generos)\n",
        "\n",
        "    livro_recomendado = df.filter(df.genero == genero_aleatorio).limit(1)\n",
        "    resultado = livro_recomendado.select(\"genero\", \"nome_livro\", \"autor\", \"ano\").collect()\n",
        "\n",
        "    genero, nome_livro, autor, ano = resultado[0]\n",
        "    return genero, nome_livro, autor, ano\n",
        "@app.route(\"/\")\n",
        "def home():\n",
        "    genero, nome_livro, autor, ano = recomendar_livros_aleatorio()\n",
        "    return render_template(\"index.html\", genero=genero, nome_livro=nome_livro, autor=autor, ano=ano)\n",
        "@app.route(\"/nova_recomendacao\")\n",
        "def nova_recomendacao():\n",
        "    genero, nome_livro, autor, ano = recomendar_livros_aleatorio()\n",
        "    return jsonify(genero=genero, nome_livro=nome_livro, autor=autor, ano=ano)\n",
        "print(f\"{public_url}\")\n",
        "app.run(port=port_no)"
      ],
      "metadata": {
        "colab": {
          "base_uri": "https://localhost:8080/"
        },
        "id": "iu4n_atgbkK5",
        "outputId": "aca3624a-776c-4949-e31a-8713851a84e9"
      },
      "execution_count": null,
      "outputs": [
        {
          "output_type": "stream",
          "name": "stdout",
          "text": [
            "https://3fa1-34-148-235-27.ngrok-free.app\n",
            " * Serving Flask app '__main__'\n",
            " * Debug mode: off\n"
          ]
        },
        {
          "output_type": "stream",
          "name": "stderr",
          "text": [
            "INFO:werkzeug:\u001b[31m\u001b[1mWARNING: This is a development server. Do not use it in a production deployment. Use a production WSGI server instead.\u001b[0m\n",
            " * Running on http://127.0.0.1:5000\n",
            "INFO:werkzeug:\u001b[33mPress CTRL+C to quit\u001b[0m\n",
            "INFO:werkzeug:127.0.0.1 - - [13/Sep/2024 13:07:40] \"GET / HTTP/1.1\" 200 -\n",
            "INFO:werkzeug:127.0.0.1 - - [13/Sep/2024 13:07:40] \"\u001b[33mGET /favicon.ico HTTP/1.1\u001b[0m\" 404 -\n",
            "INFO:werkzeug:127.0.0.1 - - [13/Sep/2024 13:08:58] \"GET /nova_recomendacao HTTP/1.1\" 200 -\n",
            "INFO:werkzeug:127.0.0.1 - - [13/Sep/2024 13:09:01] \"GET /nova_recomendacao HTTP/1.1\" 200 -\n",
            "INFO:werkzeug:127.0.0.1 - - [13/Sep/2024 13:09:05] \"GET /nova_recomendacao HTTP/1.1\" 200 -\n",
            "INFO:werkzeug:127.0.0.1 - - [13/Sep/2024 13:09:11] \"GET /nova_recomendacao HTTP/1.1\" 200 -\n",
            "INFO:werkzeug:127.0.0.1 - - [13/Sep/2024 13:09:12] \"GET /nova_recomendacao HTTP/1.1\" 200 -\n",
            "INFO:werkzeug:127.0.0.1 - - [13/Sep/2024 13:09:13] \"GET /nova_recomendacao HTTP/1.1\" 200 -\n"
          ]
        }
      ]
    },
    {
      "cell_type": "markdown",
      "source": [
        "Nota: Para visualizar, clique no primeiro link gerado e na pagina, aperte o botão roxo para confirmar"
      ],
      "metadata": {
        "id": "LaTzDlujfzCg"
      }
    }
  ]
}